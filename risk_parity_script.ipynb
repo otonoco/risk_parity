{
  "nbformat": 4,
  "nbformat_minor": 0,
  "metadata": {
    "colab": {
      "name": "“Invest Tools.ipynb”的副本",
      "provenance": [],
      "collapsed_sections": []
    },
    "kernelspec": {
      "name": "python3",
      "display_name": "Python 3"
    }
  },
  "cells": [
    {
      "cell_type": "markdown",
      "metadata": {
        "id": "wDRp3dS3Zolh"
      },
      "source": [
        "This colab interactive notebook is a open source tool. It contains two parts:\n",
        " 1. Adaptive Risk Parity Tool based on Inverse volatility. For details, you can check this two links: [Adaptive Risk Parity 投资策略](https://www.physixfan.com/risk-parity-touziceluegaijinbandongtaidiaozhenguprohetmfdebili/) and [Risk Parity 的具体含义，以及与 Inverse Volatility 的区别与联系](https://www.physixfan.com/risk-parity-dejutihanyijiyu-inverse-volatility-dequbie/)\n",
        " 2. Portfolio Rebalance Helper. It's a tool helps you to convert your current portfolio pie to target pie.\n",
        "---\n",
        "# To use this notebook, click the `Copy to Drive` Button on top to copy it to your google driver and run, otherwise, google won't assgin a runtime to you.\n",
        "\n",
        "---\n",
        " Credit: \n",
        " 1. **Inverse volatility**: Zebing Lin (https://github.com/linzebing)\n",
        " 2. **Rest part of the notebook**:  2b-bro\n"
      ]
    },
    {
      "cell_type": "code",
      "metadata": {
        "id": "lF33IoPHYvBv",
        "cellView": "form"
      },
      "source": [
        "#!/usr/local/bin/python3\n",
        "# Original Author: Zebing Lin (https://github.com/linzebing)\n",
        "# Rewriter & maintainer: Kyon Smith \n",
        "#@markdown ####*← Step1. Click the Play button to initiate funtions for this notebook.*\n",
        "from datetime import datetime, date\n",
        "#import math\n",
        "import numpy as np\n",
        "import time\n",
        "import sys\n",
        "import requests\n",
        "import logging\n",
        "from bs4 import BeautifulSoup\n",
        "\n",
        "headers={\"User-Agent\":\"Mozilla/5.0 (Windows NT 10.0; Win64; x64) AppleWebKit/537.36 (KHTML, like Gecko) Chrome/77.0.3865.90 Safari/537.36\"}\n",
        "\n",
        "def get_stock_rt_price(symbol):\n",
        "    url = f'https://in.finance.yahoo.com/quote/{symbol}' \n",
        "    r = requests.get(url)\n",
        "    content = BeautifulSoup(r.content, 'lxml')\n",
        "    price = content.find(\"span\",attrs={\"data-reactid\":32}).text\n",
        "    try:\n",
        "        price = float(price.replace(',',''))\n",
        "    except ValueError as e:\n",
        "        logging.error(e)\n",
        "        return\n",
        "    return price\n",
        "\n",
        "def get_volatility_and_performance(symbol,end_timestamp,window_size = 20):\n",
        "    num_trading_days_per_year = 252\n",
        "    date_format = \"%Y-%m-%d\"\n",
        "    #end_timestamp = int(time.time())\n",
        "    start_timestamp = int(end_timestamp - (1.4 * (window_size + 1) + 4) * 86400)\n",
        "    download_url = f\"https://query1.finance.yahoo.com/v7/finance/download/{symbol}\"\n",
        "    res=requests.get(download_url,headers=headers,params={\"period1\":start_timestamp,\n",
        "                                            \"period2\":end_timestamp,\n",
        "                                            \"interval\":\"1d\",\n",
        "                                            \"events\":\"history\"\n",
        "                                             })\n",
        "    lines=res.text.strip().split('\\n')\n",
        "    #print(lines)\n",
        "    assert lines[0].split(',')[0] == 'Date'\n",
        "    assert lines[0].split(',')[5] == 'Adj Close'\n",
        "   \n",
        "    prices = []\n",
        "    for line in lines[1:]:\n",
        "        prices.append(float(line.split(',')[5]))\n",
        "    volatilities_in_window = []\n",
        "    prices.reverse()\n",
        "    for i in range(window_size):\n",
        "        volatilities_in_window.append(np.log(prices[i] / prices[i+1]))  \n",
        "        \n",
        "    most_recent_date = datetime.strptime(lines[-1].split(',')[0], date_format).date()\n",
        "    assert (datetime.fromtimestamp(end_timestamp).date() - most_recent_date).days <= 4, \"today is {}, most recent trading day is {}\".format(date.today(), most_recent_date)\n",
        "\n",
        "    return {\"symbol\":symbol,\n",
        "            \"volatility\":np.std(volatilities_in_window, ddof = 1) * np.sqrt(num_trading_days_per_year), \n",
        "            \"performance\":prices[0] / prices[window_size] - 1.0}\n",
        "\n",
        "def get_inverse_volatility_allocation(symbols,end_timestamp,window_size=20):\n",
        "    volatilities = []\n",
        "    performances = []\n",
        "    sum_inverse_volatility = 0.0\n",
        "    for symbol in symbols:\n",
        "        _ , volatility, performance = get_volatility_and_performance(symbol,end_timestamp,window_size).values()\n",
        "        sum_inverse_volatility += 1 / volatility\n",
        "        volatilities.append(volatility)\n",
        "        performances.append(performance)\n",
        "\n",
        "    print (\"Portfolio: {}, as of {} (window size is {} days)\".format(str(symbols), datetime.fromtimestamp(end_timestamp).strftime('%Y-%m-%d'), window_size))\n",
        "    allocations=[float(1 / (volatility * sum_inverse_volatility)) for volatility in volatilities]\n",
        "    return [{\"symbol\":symbol,\n",
        "             \"allocation\":allocation,\n",
        "             \"annualized_volatility\":volatility\n",
        "             ,\"performance\":performance} for symbol,allocation,volatility,performance in zip(symbols,allocations,volatilities,performances)]\n",
        "\n",
        "def rebalance_pie(current_share_pie,target_pie,fractional_share=False):\n",
        "    # get all stock symbols\n",
        "    current_stocks=set(current_share_pie.keys())\n",
        "    target_stocks=set(target_pie.keys())\n",
        "    current_stocks.remove(\"USD_CASH\")\n",
        "    # get unique symbols in each pie\n",
        "    stock_symbols=set(current_stocks).union(target_stocks)\n",
        "    unique_current=set(current_stocks).difference(target_stocks)\n",
        "    unique_target=set(target_stocks).difference(current_stocks)\n",
        "    # add unique symbols to pies to avoid KeyError\n",
        "    current_share_pie.update(dict(zip(unique_target,[0] * len(unique_target))))\n",
        "    target_pie.update(dict(zip(unique_current,[0] * len(unique_current))))\n",
        "    # get stock real time price\n",
        "    stock_prices={symbol:get_stock_rt_price(symbol) for symbol in stock_symbols}\n",
        "    # calculate the whole vaule of currrent pie\n",
        "    whole_value=0\n",
        "    for symbol,share in current_share_pie.items():\n",
        "        if symbol!=\"USD_CASH\":\n",
        "            whole_value+=share*stock_prices[symbol]\n",
        "        else:\n",
        "            whole_value+=share\n",
        "    # get target pie of shares\n",
        "    if fractional_share:\n",
        "        target_share_pie={symbol:whole_value*allocation/stock_prices[symbol] for symbol,allocation in target_pie.items()}\n",
        "    else:\n",
        "        target_share_pie={symbol:round(whole_value*allocation/stock_prices[symbol]) for symbol,allocation in target_pie.items()}\n",
        "    # print how to modify current pie to target pie\n",
        "    for symbol in stock_symbols:\n",
        "        delta=target_share_pie[symbol]-current_share_pie[symbol]\n",
        "        if delta>0:\n",
        "            print(f\"Buy {delta} shares of {symbol} at {stock_prices[symbol]}\")\n",
        "        elif delta<0:\n",
        "            print(f\"Sell {abs(delta)} shares of {symbol} at {stock_prices[symbol]}\")\n",
        "    # return details of target pie\n",
        "    return [{\"symbol\":symbol,\n",
        "            \"share\":share,\n",
        "            \"market_value\":stock_prices[symbol]*share,\n",
        "            \"allocation\":target_pie[symbol]} for symbol,share in target_share_pie.items() if share !=0]\n"
      ],
      "execution_count": null,
      "outputs": []
    },
    {
      "cell_type": "code",
      "metadata": {
        "id": "0j5byM3SSB7G",
        "colab": {
          "base_uri": "https://localhost:8080/"
        },
        "cellView": "form",
        "outputId": "47247e61-be20-4231-d3c2-a0ade0faa387"
      },
      "source": [
        "#@markdown #### *← When finish filling the form, Click the Play button to run the cell.*\n",
        "#@markdown ## **Adaptive Risk Parity Tool** ##\n",
        "#@markdown Calculate the share ratio based on inverse volatility of input symbols below:\n",
        "\n",
        "#@markdown ---\n",
        "end_timestamp = \"2021-07-01\" #@param {type:\"date\"}\n",
        "end_timestamp = int(datetime.timestamp(datetime.strptime(end_timestamp,'%Y-%m-%d')))\n",
        "#@markdown **window_size** is the trading days you want to calculate for volatilty, default 20 days (one month).\n",
        "window_size = 20 #@param {type:\"slider\", min:0, max:100, step:1}\n",
        "#@markdown **portfolio** is a python list of your portfolio for calcuate share ratio based on inverse volatilty. \n",
        "#@markdown Format: [\"STOCK_A\",\"STOCK_B\",\"STOCK_C\"]\n",
        "portfolio =  [\"UPRO\",\"TMF\"] #@param {type:\"raw\")\n",
        "\n",
        "result=get_inverse_volatility_allocation(portfolio,end_timestamp,window_size)\n",
        "\n",
        "for stock in result:\n",
        "    print (f'{stock[\"symbol\"]} allocation ratio: {stock[\"allocation\"]*100:.2f}% (anualized volatility: {stock[\"annualized_volatility\"]*100:.2f}%, performance: {stock[\"performance\"]*100:.2f}%)')\n",
        "\n",
        "risk_parity_pie={stock[\"symbol\"]:stock[\"allocation\"] for stock in result}"
      ],
      "execution_count": null,
      "outputs": [
        {
          "output_type": "stream",
          "text": [
            "Portfolio: ['UPRO', 'TMF'], as of 2021-07-01 (window size is 20 days)\n",
            "UPRO allocation ratio: 60.54% (anualized volatility: 26.53%, performance: 6.35%)\n",
            "TMF allocation ratio: 39.46% (anualized volatility: 40.69%, performance: 12.32%)\n"
          ],
          "name": "stdout"
        }
      ]
    },
    {
      "cell_type": "code",
      "metadata": {
        "id": "w1K6qn1KN4q9"
      },
      "source": [
        ""
      ],
      "execution_count": null,
      "outputs": []
    },
    {
      "cell_type": "code",
      "metadata": {
        "id": "RFUQDRJuXSQr",
        "cellView": "form",
        "colab": {
          "base_uri": "https://localhost:8080/",
          "height": 151
        },
        "outputId": "a7f4a208-a085-48c2-c824-8701ad89ca58"
      },
      "source": [
        "#@markdown #### *← When finish filling the form, Click the Play button to run the cell.*\n",
        "#@markdown ## **Portfolio Rebalance Helper**\n",
        "#@markdown ---\n",
        "#@markdown **current_pie** is a python dictionary of your current portfolio.\n",
        "\n",
        "#@markdown Format: {\"STOCK_A\":Shares of A,\"STOCK_B\":Shares of B,\"STOCK_C\":Shares of C,\"USD_CASH\":Current Cash Value}\n",
        "current_pie =  {\"UPRO\":10, \"TMF\":10, \"USD_CASH\":500} #@param {type:\"raw\")\n",
        "\n",
        "#@markdown check the box below if you want to use the pie calcualted by last cell. Otherwise, uncheck the box and put your **target_pie** below.\n",
        "use_risk_parity_pie =True #@param {type:\"boolean\"}\n",
        "\n",
        "#@markdown *Optional*: **target_pie** your target allocation pie, a python dictionary.\n",
        "\n",
        "#@markdown Format: {\"STOCK_A\":ratio of A, \"STOCK_B\":ratio of B, \"STOCK_C\":ratio of C}\n",
        "target_pie =  {\"SPY\": 0.5 , \"TLT\":0.5 } #@param {type:\"raw\")\n",
        "\n",
        "#@markdown check the box below if your broker support fractional share.\n",
        "fractional_share = False #@param {type:\"boolean\"}\n",
        "\n",
        "if use_risk_parity_pie:\n",
        "    target_pie=risk_parity_pie\n",
        "\n",
        "target_pie_details=rebalance_pie(current_pie,target_pie,fractional_share)\n",
        "\n",
        "print(\"\\nThis is your final target pie:\")\n",
        "\n",
        "for stock in target_pie_details:\n",
        "    print (f'{stock[\"symbol\"]} share:{stock[\"share\"]}, market value:{stock[\"market_value\"]}, allocation ratio: {stock[\"allocation\"]*100:.2f}')"
      ],
      "execution_count": null,
      "outputs": [
        {
          "output_type": "stream",
          "text": [
            "Sell 10 shares of TMF at 39.74\n",
            "Sell 10 shares of UPRO at 55.38\n",
            "Buy 4 shares of TLT at 162.75\n",
            "Buy 2 shares of SPY at 333.84\n",
            "\n",
            "This is your final target pie:\n",
            "SPY share:2, market value:667.68, allocation ratio: 50.00\n",
            "TLT share:4, market value:651.0, allocation ratio: 50.00\n"
          ],
          "name": "stdout"
        }
      ]
    },
    {
      "cell_type": "code",
      "metadata": {
        "id": "_jNTw3OXiRgy"
      },
      "source": [
        ""
      ],
      "execution_count": null,
      "outputs": []
    }
  ]
}